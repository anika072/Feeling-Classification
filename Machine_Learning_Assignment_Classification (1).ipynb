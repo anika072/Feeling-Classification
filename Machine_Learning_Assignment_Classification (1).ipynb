{
  "nbformat": 4,
  "nbformat_minor": 0,
  "metadata": {
    "colab": {
      "provenance": [],
      "toc_visible": true,
      "gpuType": "T4"
    },
    "kernelspec": {
      "name": "python3",
      "display_name": "Python 3"
    },
    "language_info": {
      "name": "python"
    },
    "accelerator": "GPU"
  },
  "cells": [
    {
      "cell_type": "markdown",
      "source": [
        "# Mount To Google Drive"
      ],
      "metadata": {
        "id": "QwF7A_QytUh6"
      }
    },
    {
      "cell_type": "code",
      "execution_count": null,
      "metadata": {
        "id": "kxCMPKd8egr5",
        "colab": {
          "base_uri": "https://localhost:8080/"
        },
        "outputId": "c6255d01-0412-4551-bb20-0a887a975f14"
      },
      "outputs": [
        {
          "output_type": "stream",
          "name": "stdout",
          "text": [
            "Mounted at /content/drive\n"
          ]
        }
      ],
      "source": [
        "from google.colab import drive\n",
        "drive.mount('/content/drive')"
      ]
    },
    {
      "cell_type": "code",
      "source": [
        "import numpy as np\n",
        "import pandas as pd\n",
        "import seaborn as sns\n",
        "import matplotlib.pyplot as plt"
      ],
      "metadata": {
        "id": "Yo2MSnFeejlc"
      },
      "execution_count": null,
      "outputs": []
    },
    {
      "cell_type": "markdown",
      "source": [
        "# Task2: Feeling Classification (Classification Task)"
      ],
      "metadata": {
        "id": "WbGkI7Dj_PCy"
      }
    },
    {
      "cell_type": "markdown",
      "source": [
        "## Get the Data"
      ],
      "metadata": {
        "id": "r0pV-lgw_j7j"
      }
    },
    {
      "cell_type": "code",
      "source": [
        "feeling=pd.read_excel('/content/drive/MyDrive/Machine_Learning_Dataset/Raw dataset_MJH.xlsx')\n",
        "bmi=pd.read_excel('/content/drive/MyDrive/Machine_Learning_Dataset/BMI Calculation_MJH.xlsx')"
      ],
      "metadata": {
        "id": "k-Vm88JkolOv"
      },
      "execution_count": null,
      "outputs": []
    },
    {
      "cell_type": "markdown",
      "source": [
        "### Take a Look at the Data Structure"
      ],
      "metadata": {
        "id": "ZgsIv17clgPg"
      }
    },
    {
      "cell_type": "code",
      "source": [
        "new_column_names=['Sr','Gender','Age','Education_Level','Current_Living_Area','Monthly_Family_Income','University_Type','Height',\n",
        "                  'BMI_Before_COVID','BMI_At_Present','Smoking_Habit','Eating_Large_Meals_or_Snacks','Physical_Exercise',\n",
        "                  'Physical_Activity','Sound_Sleep_At_Night','Physical_Disturbance','Feeling_Lonely','Feeling_Depressed',\n",
        "                  'Feeling_Anxious','Had_Suicidial_Thoughts','Had_Conflicts','Been_Abused']\n",
        "feeling.columns=new_column_names"
      ],
      "metadata": {
        "id": "t8vJcO4NzX2_"
      },
      "execution_count": null,
      "outputs": []
    },
    {
      "cell_type": "code",
      "source": [
        "feeling.head()"
      ],
      "metadata": {
        "id": "FuT4f5rhu2HE",
        "colab": {
          "base_uri": "https://localhost:8080/",
          "height": 411
        },
        "outputId": "2c471bc4-3ba8-4b12-cbe7-adfef5a120f9"
      },
      "execution_count": null,
      "outputs": [
        {
          "output_type": "execute_result",
          "data": {
            "text/plain": [
              "   Sr  Gender       Age          Education_Level Current_Living_Area  \\\n",
              "0   1    Male      ≥ 25  4th/5th/Master’s/Higher               Urban   \n",
              "1   2  Female  22 to 24  4th/5th/Master’s/Higher               Urban   \n",
              "2   3  Female  22 to 24  4th/5th/Master’s/Higher               Urban   \n",
              "3   4  Female  22 to 24  4th/5th/Master’s/Higher               Urban   \n",
              "4   5  Female  22 to 24  4th/5th/Master’s/Higher               Urban   \n",
              "\n",
              "  Monthly_Family_Income University_Type  Height  BMI_Before_COVID  \\\n",
              "0     25 to 50 thousand          Public  167.64         24.908222   \n",
              "1     above 50 thousand          Public  154.94         21.244332   \n",
              "2     above 50 thousand          Public  152.40         18.944482   \n",
              "3     above 50 thousand          Public  154.94         20.411221   \n",
              "4     above 50 thousand          Public  160.02         29.289552   \n",
              "\n",
              "   BMI_At_Present  ...        Physical_Exercise Physical_Activity  \\\n",
              "0       27.754876  ...                Decreased         Decreased   \n",
              "1       22.910554  ...                Decreased         Decreased   \n",
              "2       21.097264  ...                Decreased         Decreased   \n",
              "3       19.578110  ...  Same as before COVID-19         Decreased   \n",
              "4       30.461134  ...                Decreased         Decreased   \n",
              "\n",
              "      Sound_Sleep_At_Night Physical_Disturbance Feeling_Lonely  \\\n",
              "0                Decreased            Increased            Yes   \n",
              "1  Same as before COVID-19            Decreased             No   \n",
              "2                Decreased            Increased             No   \n",
              "3                Decreased            Increased            Yes   \n",
              "4                Decreased            Increased             No   \n",
              "\n",
              "  Feeling_Depressed Feeling_Anxious Had_Suicidial_Thoughts Had_Conflicts  \\\n",
              "0               Yes             Yes                     No           Yes   \n",
              "1                No              No                     No           Yes   \n",
              "2                No              No                     No           Yes   \n",
              "3               Yes             Yes                    Yes           Yes   \n",
              "4               Yes             Yes                     No            No   \n",
              "\n",
              "  Been_Abused  \n",
              "0         Yes  \n",
              "1          No  \n",
              "2          No  \n",
              "3         Yes  \n",
              "4          No  \n",
              "\n",
              "[5 rows x 22 columns]"
            ],
            "text/html": [
              "\n",
              "  <div id=\"df-f025ea15-a5b0-497b-bfda-f158301c2aa4\" class=\"colab-df-container\">\n",
              "    <div>\n",
              "<style scoped>\n",
              "    .dataframe tbody tr th:only-of-type {\n",
              "        vertical-align: middle;\n",
              "    }\n",
              "\n",
              "    .dataframe tbody tr th {\n",
              "        vertical-align: top;\n",
              "    }\n",
              "\n",
              "    .dataframe thead th {\n",
              "        text-align: right;\n",
              "    }\n",
              "</style>\n",
              "<table border=\"1\" class=\"dataframe\">\n",
              "  <thead>\n",
              "    <tr style=\"text-align: right;\">\n",
              "      <th></th>\n",
              "      <th>Sr</th>\n",
              "      <th>Gender</th>\n",
              "      <th>Age</th>\n",
              "      <th>Education_Level</th>\n",
              "      <th>Current_Living_Area</th>\n",
              "      <th>Monthly_Family_Income</th>\n",
              "      <th>University_Type</th>\n",
              "      <th>Height</th>\n",
              "      <th>BMI_Before_COVID</th>\n",
              "      <th>BMI_At_Present</th>\n",
              "      <th>...</th>\n",
              "      <th>Physical_Exercise</th>\n",
              "      <th>Physical_Activity</th>\n",
              "      <th>Sound_Sleep_At_Night</th>\n",
              "      <th>Physical_Disturbance</th>\n",
              "      <th>Feeling_Lonely</th>\n",
              "      <th>Feeling_Depressed</th>\n",
              "      <th>Feeling_Anxious</th>\n",
              "      <th>Had_Suicidial_Thoughts</th>\n",
              "      <th>Had_Conflicts</th>\n",
              "      <th>Been_Abused</th>\n",
              "    </tr>\n",
              "  </thead>\n",
              "  <tbody>\n",
              "    <tr>\n",
              "      <th>0</th>\n",
              "      <td>1</td>\n",
              "      <td>Male</td>\n",
              "      <td>≥ 25</td>\n",
              "      <td>4th/5th/Master’s/Higher</td>\n",
              "      <td>Urban</td>\n",
              "      <td>25 to 50 thousand</td>\n",
              "      <td>Public</td>\n",
              "      <td>167.64</td>\n",
              "      <td>24.908222</td>\n",
              "      <td>27.754876</td>\n",
              "      <td>...</td>\n",
              "      <td>Decreased</td>\n",
              "      <td>Decreased</td>\n",
              "      <td>Decreased</td>\n",
              "      <td>Increased</td>\n",
              "      <td>Yes</td>\n",
              "      <td>Yes</td>\n",
              "      <td>Yes</td>\n",
              "      <td>No</td>\n",
              "      <td>Yes</td>\n",
              "      <td>Yes</td>\n",
              "    </tr>\n",
              "    <tr>\n",
              "      <th>1</th>\n",
              "      <td>2</td>\n",
              "      <td>Female</td>\n",
              "      <td>22 to 24</td>\n",
              "      <td>4th/5th/Master’s/Higher</td>\n",
              "      <td>Urban</td>\n",
              "      <td>above 50 thousand</td>\n",
              "      <td>Public</td>\n",
              "      <td>154.94</td>\n",
              "      <td>21.244332</td>\n",
              "      <td>22.910554</td>\n",
              "      <td>...</td>\n",
              "      <td>Decreased</td>\n",
              "      <td>Decreased</td>\n",
              "      <td>Same as before COVID-19</td>\n",
              "      <td>Decreased</td>\n",
              "      <td>No</td>\n",
              "      <td>No</td>\n",
              "      <td>No</td>\n",
              "      <td>No</td>\n",
              "      <td>Yes</td>\n",
              "      <td>No</td>\n",
              "    </tr>\n",
              "    <tr>\n",
              "      <th>2</th>\n",
              "      <td>3</td>\n",
              "      <td>Female</td>\n",
              "      <td>22 to 24</td>\n",
              "      <td>4th/5th/Master’s/Higher</td>\n",
              "      <td>Urban</td>\n",
              "      <td>above 50 thousand</td>\n",
              "      <td>Public</td>\n",
              "      <td>152.40</td>\n",
              "      <td>18.944482</td>\n",
              "      <td>21.097264</td>\n",
              "      <td>...</td>\n",
              "      <td>Decreased</td>\n",
              "      <td>Decreased</td>\n",
              "      <td>Decreased</td>\n",
              "      <td>Increased</td>\n",
              "      <td>No</td>\n",
              "      <td>No</td>\n",
              "      <td>No</td>\n",
              "      <td>No</td>\n",
              "      <td>Yes</td>\n",
              "      <td>No</td>\n",
              "    </tr>\n",
              "    <tr>\n",
              "      <th>3</th>\n",
              "      <td>4</td>\n",
              "      <td>Female</td>\n",
              "      <td>22 to 24</td>\n",
              "      <td>4th/5th/Master’s/Higher</td>\n",
              "      <td>Urban</td>\n",
              "      <td>above 50 thousand</td>\n",
              "      <td>Public</td>\n",
              "      <td>154.94</td>\n",
              "      <td>20.411221</td>\n",
              "      <td>19.578110</td>\n",
              "      <td>...</td>\n",
              "      <td>Same as before COVID-19</td>\n",
              "      <td>Decreased</td>\n",
              "      <td>Decreased</td>\n",
              "      <td>Increased</td>\n",
              "      <td>Yes</td>\n",
              "      <td>Yes</td>\n",
              "      <td>Yes</td>\n",
              "      <td>Yes</td>\n",
              "      <td>Yes</td>\n",
              "      <td>Yes</td>\n",
              "    </tr>\n",
              "    <tr>\n",
              "      <th>4</th>\n",
              "      <td>5</td>\n",
              "      <td>Female</td>\n",
              "      <td>22 to 24</td>\n",
              "      <td>4th/5th/Master’s/Higher</td>\n",
              "      <td>Urban</td>\n",
              "      <td>above 50 thousand</td>\n",
              "      <td>Public</td>\n",
              "      <td>160.02</td>\n",
              "      <td>29.289552</td>\n",
              "      <td>30.461134</td>\n",
              "      <td>...</td>\n",
              "      <td>Decreased</td>\n",
              "      <td>Decreased</td>\n",
              "      <td>Decreased</td>\n",
              "      <td>Increased</td>\n",
              "      <td>No</td>\n",
              "      <td>Yes</td>\n",
              "      <td>Yes</td>\n",
              "      <td>No</td>\n",
              "      <td>No</td>\n",
              "      <td>No</td>\n",
              "    </tr>\n",
              "  </tbody>\n",
              "</table>\n",
              "<p>5 rows × 22 columns</p>\n",
              "</div>\n",
              "    <div class=\"colab-df-buttons\">\n",
              "\n",
              "  <div class=\"colab-df-container\">\n",
              "    <button class=\"colab-df-convert\" onclick=\"convertToInteractive('df-f025ea15-a5b0-497b-bfda-f158301c2aa4')\"\n",
              "            title=\"Convert this dataframe to an interactive table.\"\n",
              "            style=\"display:none;\">\n",
              "\n",
              "  <svg xmlns=\"http://www.w3.org/2000/svg\" height=\"24px\" viewBox=\"0 -960 960 960\">\n",
              "    <path d=\"M120-120v-720h720v720H120Zm60-500h600v-160H180v160Zm220 220h160v-160H400v160Zm0 220h160v-160H400v160ZM180-400h160v-160H180v160Zm440 0h160v-160H620v160ZM180-180h160v-160H180v160Zm440 0h160v-160H620v160Z\"/>\n",
              "  </svg>\n",
              "    </button>\n",
              "\n",
              "  <style>\n",
              "    .colab-df-container {\n",
              "      display:flex;\n",
              "      gap: 12px;\n",
              "    }\n",
              "\n",
              "    .colab-df-convert {\n",
              "      background-color: #E8F0FE;\n",
              "      border: none;\n",
              "      border-radius: 50%;\n",
              "      cursor: pointer;\n",
              "      display: none;\n",
              "      fill: #1967D2;\n",
              "      height: 32px;\n",
              "      padding: 0 0 0 0;\n",
              "      width: 32px;\n",
              "    }\n",
              "\n",
              "    .colab-df-convert:hover {\n",
              "      background-color: #E2EBFA;\n",
              "      box-shadow: 0px 1px 2px rgba(60, 64, 67, 0.3), 0px 1px 3px 1px rgba(60, 64, 67, 0.15);\n",
              "      fill: #174EA6;\n",
              "    }\n",
              "\n",
              "    .colab-df-buttons div {\n",
              "      margin-bottom: 4px;\n",
              "    }\n",
              "\n",
              "    [theme=dark] .colab-df-convert {\n",
              "      background-color: #3B4455;\n",
              "      fill: #D2E3FC;\n",
              "    }\n",
              "\n",
              "    [theme=dark] .colab-df-convert:hover {\n",
              "      background-color: #434B5C;\n",
              "      box-shadow: 0px 1px 3px 1px rgba(0, 0, 0, 0.15);\n",
              "      filter: drop-shadow(0px 1px 2px rgba(0, 0, 0, 0.3));\n",
              "      fill: #FFFFFF;\n",
              "    }\n",
              "  </style>\n",
              "\n",
              "    <script>\n",
              "      const buttonEl =\n",
              "        document.querySelector('#df-f025ea15-a5b0-497b-bfda-f158301c2aa4 button.colab-df-convert');\n",
              "      buttonEl.style.display =\n",
              "        google.colab.kernel.accessAllowed ? 'block' : 'none';\n",
              "\n",
              "      async function convertToInteractive(key) {\n",
              "        const element = document.querySelector('#df-f025ea15-a5b0-497b-bfda-f158301c2aa4');\n",
              "        const dataTable =\n",
              "          await google.colab.kernel.invokeFunction('convertToInteractive',\n",
              "                                                    [key], {});\n",
              "        if (!dataTable) return;\n",
              "\n",
              "        const docLinkHtml = 'Like what you see? Visit the ' +\n",
              "          '<a target=\"_blank\" href=https://colab.research.google.com/notebooks/data_table.ipynb>data table notebook</a>'\n",
              "          + ' to learn more about interactive tables.';\n",
              "        element.innerHTML = '';\n",
              "        dataTable['output_type'] = 'display_data';\n",
              "        await google.colab.output.renderOutput(dataTable, element);\n",
              "        const docLink = document.createElement('div');\n",
              "        docLink.innerHTML = docLinkHtml;\n",
              "        element.appendChild(docLink);\n",
              "      }\n",
              "    </script>\n",
              "  </div>\n",
              "\n",
              "\n",
              "<div id=\"df-f472ac47-fdb7-4368-b400-eae873fe9c50\">\n",
              "  <button class=\"colab-df-quickchart\" onclick=\"quickchart('df-f472ac47-fdb7-4368-b400-eae873fe9c50')\"\n",
              "            title=\"Suggest charts\"\n",
              "            style=\"display:none;\">\n",
              "\n",
              "<svg xmlns=\"http://www.w3.org/2000/svg\" height=\"24px\"viewBox=\"0 0 24 24\"\n",
              "     width=\"24px\">\n",
              "    <g>\n",
              "        <path d=\"M19 3H5c-1.1 0-2 .9-2 2v14c0 1.1.9 2 2 2h14c1.1 0 2-.9 2-2V5c0-1.1-.9-2-2-2zM9 17H7v-7h2v7zm4 0h-2V7h2v10zm4 0h-2v-4h2v4z\"/>\n",
              "    </g>\n",
              "</svg>\n",
              "  </button>\n",
              "\n",
              "<style>\n",
              "  .colab-df-quickchart {\n",
              "      --bg-color: #E8F0FE;\n",
              "      --fill-color: #1967D2;\n",
              "      --hover-bg-color: #E2EBFA;\n",
              "      --hover-fill-color: #174EA6;\n",
              "      --disabled-fill-color: #AAA;\n",
              "      --disabled-bg-color: #DDD;\n",
              "  }\n",
              "\n",
              "  [theme=dark] .colab-df-quickchart {\n",
              "      --bg-color: #3B4455;\n",
              "      --fill-color: #D2E3FC;\n",
              "      --hover-bg-color: #434B5C;\n",
              "      --hover-fill-color: #FFFFFF;\n",
              "      --disabled-bg-color: #3B4455;\n",
              "      --disabled-fill-color: #666;\n",
              "  }\n",
              "\n",
              "  .colab-df-quickchart {\n",
              "    background-color: var(--bg-color);\n",
              "    border: none;\n",
              "    border-radius: 50%;\n",
              "    cursor: pointer;\n",
              "    display: none;\n",
              "    fill: var(--fill-color);\n",
              "    height: 32px;\n",
              "    padding: 0;\n",
              "    width: 32px;\n",
              "  }\n",
              "\n",
              "  .colab-df-quickchart:hover {\n",
              "    background-color: var(--hover-bg-color);\n",
              "    box-shadow: 0 1px 2px rgba(60, 64, 67, 0.3), 0 1px 3px 1px rgba(60, 64, 67, 0.15);\n",
              "    fill: var(--button-hover-fill-color);\n",
              "  }\n",
              "\n",
              "  .colab-df-quickchart-complete:disabled,\n",
              "  .colab-df-quickchart-complete:disabled:hover {\n",
              "    background-color: var(--disabled-bg-color);\n",
              "    fill: var(--disabled-fill-color);\n",
              "    box-shadow: none;\n",
              "  }\n",
              "\n",
              "  .colab-df-spinner {\n",
              "    border: 2px solid var(--fill-color);\n",
              "    border-color: transparent;\n",
              "    border-bottom-color: var(--fill-color);\n",
              "    animation:\n",
              "      spin 1s steps(1) infinite;\n",
              "  }\n",
              "\n",
              "  @keyframes spin {\n",
              "    0% {\n",
              "      border-color: transparent;\n",
              "      border-bottom-color: var(--fill-color);\n",
              "      border-left-color: var(--fill-color);\n",
              "    }\n",
              "    20% {\n",
              "      border-color: transparent;\n",
              "      border-left-color: var(--fill-color);\n",
              "      border-top-color: var(--fill-color);\n",
              "    }\n",
              "    30% {\n",
              "      border-color: transparent;\n",
              "      border-left-color: var(--fill-color);\n",
              "      border-top-color: var(--fill-color);\n",
              "      border-right-color: var(--fill-color);\n",
              "    }\n",
              "    40% {\n",
              "      border-color: transparent;\n",
              "      border-right-color: var(--fill-color);\n",
              "      border-top-color: var(--fill-color);\n",
              "    }\n",
              "    60% {\n",
              "      border-color: transparent;\n",
              "      border-right-color: var(--fill-color);\n",
              "    }\n",
              "    80% {\n",
              "      border-color: transparent;\n",
              "      border-right-color: var(--fill-color);\n",
              "      border-bottom-color: var(--fill-color);\n",
              "    }\n",
              "    90% {\n",
              "      border-color: transparent;\n",
              "      border-bottom-color: var(--fill-color);\n",
              "    }\n",
              "  }\n",
              "</style>\n",
              "\n",
              "  <script>\n",
              "    async function quickchart(key) {\n",
              "      const quickchartButtonEl =\n",
              "        document.querySelector('#' + key + ' button');\n",
              "      quickchartButtonEl.disabled = true;  // To prevent multiple clicks.\n",
              "      quickchartButtonEl.classList.add('colab-df-spinner');\n",
              "      try {\n",
              "        const charts = await google.colab.kernel.invokeFunction(\n",
              "            'suggestCharts', [key], {});\n",
              "      } catch (error) {\n",
              "        console.error('Error during call to suggestCharts:', error);\n",
              "      }\n",
              "      quickchartButtonEl.classList.remove('colab-df-spinner');\n",
              "      quickchartButtonEl.classList.add('colab-df-quickchart-complete');\n",
              "    }\n",
              "    (() => {\n",
              "      let quickchartButtonEl =\n",
              "        document.querySelector('#df-f472ac47-fdb7-4368-b400-eae873fe9c50 button');\n",
              "      quickchartButtonEl.style.display =\n",
              "        google.colab.kernel.accessAllowed ? 'block' : 'none';\n",
              "    })();\n",
              "  </script>\n",
              "</div>\n",
              "    </div>\n",
              "  </div>\n"
            ]
          },
          "metadata": {},
          "execution_count": 110
        }
      ]
    },
    {
      "cell_type": "code",
      "source": [
        "feeling.shape"
      ],
      "metadata": {
        "colab": {
          "base_uri": "https://localhost:8080/"
        },
        "id": "rBLd6ujqQrBe",
        "outputId": "3155567e-18da-469d-8351-c96a21b8b6b9"
      },
      "execution_count": null,
      "outputs": [
        {
          "output_type": "execute_result",
          "data": {
            "text/plain": [
              "(1602, 22)"
            ]
          },
          "metadata": {},
          "execution_count": 111
        }
      ]
    },
    {
      "cell_type": "code",
      "source": [
        "feeling.info()"
      ],
      "metadata": {
        "id": "q7ktX2tGnxuK",
        "colab": {
          "base_uri": "https://localhost:8080/"
        },
        "outputId": "543b4a42-5204-40a5-fd2e-ed3896820dc5"
      },
      "execution_count": null,
      "outputs": [
        {
          "output_type": "stream",
          "name": "stdout",
          "text": [
            "<class 'pandas.core.frame.DataFrame'>\n",
            "RangeIndex: 1602 entries, 0 to 1601\n",
            "Data columns (total 22 columns):\n",
            " #   Column                        Non-Null Count  Dtype  \n",
            "---  ------                        --------------  -----  \n",
            " 0   Sr                            1602 non-null   int64  \n",
            " 1   Gender                        1602 non-null   object \n",
            " 2   Age                           1602 non-null   object \n",
            " 3   Education_Level               1602 non-null   object \n",
            " 4   Current_Living_Area           1602 non-null   object \n",
            " 5   Monthly_Family_Income         1602 non-null   object \n",
            " 6   University_Type               1602 non-null   object \n",
            " 7   Height                        1602 non-null   float64\n",
            " 8   BMI_Before_COVID              1602 non-null   float64\n",
            " 9   BMI_At_Present                1602 non-null   float64\n",
            " 10  Smoking_Habit                 1602 non-null   object \n",
            " 11  Eating_Large_Meals_or_Snacks  1602 non-null   object \n",
            " 12  Physical_Exercise             1602 non-null   object \n",
            " 13  Physical_Activity             1590 non-null   object \n",
            " 14  Sound_Sleep_At_Night          1602 non-null   object \n",
            " 15  Physical_Disturbance          1602 non-null   object \n",
            " 16  Feeling_Lonely                1602 non-null   object \n",
            " 17  Feeling_Depressed             1602 non-null   object \n",
            " 18  Feeling_Anxious               1602 non-null   object \n",
            " 19  Had_Suicidial_Thoughts        1602 non-null   object \n",
            " 20  Had_Conflicts                 1602 non-null   object \n",
            " 21  Been_Abused                   1602 non-null   object \n",
            "dtypes: float64(3), int64(1), object(18)\n",
            "memory usage: 275.5+ KB\n"
          ]
        }
      ]
    },
    {
      "cell_type": "code",
      "source": [
        "feeling.duplicated().value_counts()"
      ],
      "metadata": {
        "id": "dFFt6B4faqjR",
        "colab": {
          "base_uri": "https://localhost:8080/"
        },
        "outputId": "2b614e46-2e6c-4788-b3e7-2c9d6f83ace5"
      },
      "execution_count": null,
      "outputs": [
        {
          "output_type": "execute_result",
          "data": {
            "text/plain": [
              "False    1602\n",
              "dtype: int64"
            ]
          },
          "metadata": {},
          "execution_count": 113
        }
      ]
    },
    {
      "cell_type": "code",
      "source": [
        "#df1['Physical_Disturbance'].value_counts()"
      ],
      "metadata": {
        "id": "g3Sw_cwTsYei"
      },
      "execution_count": null,
      "outputs": []
    },
    {
      "cell_type": "code",
      "source": [
        "#df1['Monthly_Family_Income'].value_counts()"
      ],
      "metadata": {
        "id": "qlq1mFRbsjLQ"
      },
      "execution_count": null,
      "outputs": []
    },
    {
      "cell_type": "code",
      "source": [
        "feeling1=feeling[['Current_Living_Area','Monthly_Family_Income','Smoking_Habit','Eating_Large_Meals_or_Snacks',\n",
        "        'Physical_Exercise','Physical_Activity','Sound_Sleep_At_Night','Physical_Disturbance',\n",
        "        'Feeling_Lonely','Feeling_Depressed','Feeling_Anxious','Had_Suicidial_Thoughts','Had_Conflicts',\n",
        "        'Been_Abused']]"
      ],
      "metadata": {
        "id": "nuyRp1mNrxef"
      },
      "execution_count": null,
      "outputs": []
    },
    {
      "cell_type": "code",
      "source": [
        "feeling1.head()"
      ],
      "metadata": {
        "id": "GlztwhZWw8iN",
        "colab": {
          "base_uri": "https://localhost:8080/",
          "height": 261
        },
        "outputId": "8404a880-8764-401c-b30a-c4942c3c5ca1"
      },
      "execution_count": null,
      "outputs": [
        {
          "output_type": "execute_result",
          "data": {
            "text/plain": [
              "  Current_Living_Area Monthly_Family_Income Smoking_Habit  \\\n",
              "0               Urban     25 to 50 thousand            No   \n",
              "1               Urban     above 50 thousand            No   \n",
              "2               Urban     above 50 thousand            No   \n",
              "3               Urban     above 50 thousand            No   \n",
              "4               Urban     above 50 thousand            No   \n",
              "\n",
              "  Eating_Large_Meals_or_Snacks        Physical_Exercise Physical_Activity  \\\n",
              "0                    Increased                Decreased         Decreased   \n",
              "1                    Increased                Decreased         Decreased   \n",
              "2                    Increased                Decreased         Decreased   \n",
              "3                    Decreased  Same as before COVID-19         Decreased   \n",
              "4                    Increased                Decreased         Decreased   \n",
              "\n",
              "      Sound_Sleep_At_Night Physical_Disturbance Feeling_Lonely  \\\n",
              "0                Decreased            Increased            Yes   \n",
              "1  Same as before COVID-19            Decreased             No   \n",
              "2                Decreased            Increased             No   \n",
              "3                Decreased            Increased            Yes   \n",
              "4                Decreased            Increased             No   \n",
              "\n",
              "  Feeling_Depressed Feeling_Anxious Had_Suicidial_Thoughts Had_Conflicts  \\\n",
              "0               Yes             Yes                     No           Yes   \n",
              "1                No              No                     No           Yes   \n",
              "2                No              No                     No           Yes   \n",
              "3               Yes             Yes                    Yes           Yes   \n",
              "4               Yes             Yes                     No            No   \n",
              "\n",
              "  Been_Abused  \n",
              "0         Yes  \n",
              "1          No  \n",
              "2          No  \n",
              "3         Yes  \n",
              "4          No  "
            ],
            "text/html": [
              "\n",
              "  <div id=\"df-90524b30-97b2-4e38-be58-edcdfe8ab032\" class=\"colab-df-container\">\n",
              "    <div>\n",
              "<style scoped>\n",
              "    .dataframe tbody tr th:only-of-type {\n",
              "        vertical-align: middle;\n",
              "    }\n",
              "\n",
              "    .dataframe tbody tr th {\n",
              "        vertical-align: top;\n",
              "    }\n",
              "\n",
              "    .dataframe thead th {\n",
              "        text-align: right;\n",
              "    }\n",
              "</style>\n",
              "<table border=\"1\" class=\"dataframe\">\n",
              "  <thead>\n",
              "    <tr style=\"text-align: right;\">\n",
              "      <th></th>\n",
              "      <th>Current_Living_Area</th>\n",
              "      <th>Monthly_Family_Income</th>\n",
              "      <th>Smoking_Habit</th>\n",
              "      <th>Eating_Large_Meals_or_Snacks</th>\n",
              "      <th>Physical_Exercise</th>\n",
              "      <th>Physical_Activity</th>\n",
              "      <th>Sound_Sleep_At_Night</th>\n",
              "      <th>Physical_Disturbance</th>\n",
              "      <th>Feeling_Lonely</th>\n",
              "      <th>Feeling_Depressed</th>\n",
              "      <th>Feeling_Anxious</th>\n",
              "      <th>Had_Suicidial_Thoughts</th>\n",
              "      <th>Had_Conflicts</th>\n",
              "      <th>Been_Abused</th>\n",
              "    </tr>\n",
              "  </thead>\n",
              "  <tbody>\n",
              "    <tr>\n",
              "      <th>0</th>\n",
              "      <td>Urban</td>\n",
              "      <td>25 to 50 thousand</td>\n",
              "      <td>No</td>\n",
              "      <td>Increased</td>\n",
              "      <td>Decreased</td>\n",
              "      <td>Decreased</td>\n",
              "      <td>Decreased</td>\n",
              "      <td>Increased</td>\n",
              "      <td>Yes</td>\n",
              "      <td>Yes</td>\n",
              "      <td>Yes</td>\n",
              "      <td>No</td>\n",
              "      <td>Yes</td>\n",
              "      <td>Yes</td>\n",
              "    </tr>\n",
              "    <tr>\n",
              "      <th>1</th>\n",
              "      <td>Urban</td>\n",
              "      <td>above 50 thousand</td>\n",
              "      <td>No</td>\n",
              "      <td>Increased</td>\n",
              "      <td>Decreased</td>\n",
              "      <td>Decreased</td>\n",
              "      <td>Same as before COVID-19</td>\n",
              "      <td>Decreased</td>\n",
              "      <td>No</td>\n",
              "      <td>No</td>\n",
              "      <td>No</td>\n",
              "      <td>No</td>\n",
              "      <td>Yes</td>\n",
              "      <td>No</td>\n",
              "    </tr>\n",
              "    <tr>\n",
              "      <th>2</th>\n",
              "      <td>Urban</td>\n",
              "      <td>above 50 thousand</td>\n",
              "      <td>No</td>\n",
              "      <td>Increased</td>\n",
              "      <td>Decreased</td>\n",
              "      <td>Decreased</td>\n",
              "      <td>Decreased</td>\n",
              "      <td>Increased</td>\n",
              "      <td>No</td>\n",
              "      <td>No</td>\n",
              "      <td>No</td>\n",
              "      <td>No</td>\n",
              "      <td>Yes</td>\n",
              "      <td>No</td>\n",
              "    </tr>\n",
              "    <tr>\n",
              "      <th>3</th>\n",
              "      <td>Urban</td>\n",
              "      <td>above 50 thousand</td>\n",
              "      <td>No</td>\n",
              "      <td>Decreased</td>\n",
              "      <td>Same as before COVID-19</td>\n",
              "      <td>Decreased</td>\n",
              "      <td>Decreased</td>\n",
              "      <td>Increased</td>\n",
              "      <td>Yes</td>\n",
              "      <td>Yes</td>\n",
              "      <td>Yes</td>\n",
              "      <td>Yes</td>\n",
              "      <td>Yes</td>\n",
              "      <td>Yes</td>\n",
              "    </tr>\n",
              "    <tr>\n",
              "      <th>4</th>\n",
              "      <td>Urban</td>\n",
              "      <td>above 50 thousand</td>\n",
              "      <td>No</td>\n",
              "      <td>Increased</td>\n",
              "      <td>Decreased</td>\n",
              "      <td>Decreased</td>\n",
              "      <td>Decreased</td>\n",
              "      <td>Increased</td>\n",
              "      <td>No</td>\n",
              "      <td>Yes</td>\n",
              "      <td>Yes</td>\n",
              "      <td>No</td>\n",
              "      <td>No</td>\n",
              "      <td>No</td>\n",
              "    </tr>\n",
              "  </tbody>\n",
              "</table>\n",
              "</div>\n",
              "    <div class=\"colab-df-buttons\">\n",
              "\n",
              "  <div class=\"colab-df-container\">\n",
              "    <button class=\"colab-df-convert\" onclick=\"convertToInteractive('df-90524b30-97b2-4e38-be58-edcdfe8ab032')\"\n",
              "            title=\"Convert this dataframe to an interactive table.\"\n",
              "            style=\"display:none;\">\n",
              "\n",
              "  <svg xmlns=\"http://www.w3.org/2000/svg\" height=\"24px\" viewBox=\"0 -960 960 960\">\n",
              "    <path d=\"M120-120v-720h720v720H120Zm60-500h600v-160H180v160Zm220 220h160v-160H400v160Zm0 220h160v-160H400v160ZM180-400h160v-160H180v160Zm440 0h160v-160H620v160ZM180-180h160v-160H180v160Zm440 0h160v-160H620v160Z\"/>\n",
              "  </svg>\n",
              "    </button>\n",
              "\n",
              "  <style>\n",
              "    .colab-df-container {\n",
              "      display:flex;\n",
              "      gap: 12px;\n",
              "    }\n",
              "\n",
              "    .colab-df-convert {\n",
              "      background-color: #E8F0FE;\n",
              "      border: none;\n",
              "      border-radius: 50%;\n",
              "      cursor: pointer;\n",
              "      display: none;\n",
              "      fill: #1967D2;\n",
              "      height: 32px;\n",
              "      padding: 0 0 0 0;\n",
              "      width: 32px;\n",
              "    }\n",
              "\n",
              "    .colab-df-convert:hover {\n",
              "      background-color: #E2EBFA;\n",
              "      box-shadow: 0px 1px 2px rgba(60, 64, 67, 0.3), 0px 1px 3px 1px rgba(60, 64, 67, 0.15);\n",
              "      fill: #174EA6;\n",
              "    }\n",
              "\n",
              "    .colab-df-buttons div {\n",
              "      margin-bottom: 4px;\n",
              "    }\n",
              "\n",
              "    [theme=dark] .colab-df-convert {\n",
              "      background-color: #3B4455;\n",
              "      fill: #D2E3FC;\n",
              "    }\n",
              "\n",
              "    [theme=dark] .colab-df-convert:hover {\n",
              "      background-color: #434B5C;\n",
              "      box-shadow: 0px 1px 3px 1px rgba(0, 0, 0, 0.15);\n",
              "      filter: drop-shadow(0px 1px 2px rgba(0, 0, 0, 0.3));\n",
              "      fill: #FFFFFF;\n",
              "    }\n",
              "  </style>\n",
              "\n",
              "    <script>\n",
              "      const buttonEl =\n",
              "        document.querySelector('#df-90524b30-97b2-4e38-be58-edcdfe8ab032 button.colab-df-convert');\n",
              "      buttonEl.style.display =\n",
              "        google.colab.kernel.accessAllowed ? 'block' : 'none';\n",
              "\n",
              "      async function convertToInteractive(key) {\n",
              "        const element = document.querySelector('#df-90524b30-97b2-4e38-be58-edcdfe8ab032');\n",
              "        const dataTable =\n",
              "          await google.colab.kernel.invokeFunction('convertToInteractive',\n",
              "                                                    [key], {});\n",
              "        if (!dataTable) return;\n",
              "\n",
              "        const docLinkHtml = 'Like what you see? Visit the ' +\n",
              "          '<a target=\"_blank\" href=https://colab.research.google.com/notebooks/data_table.ipynb>data table notebook</a>'\n",
              "          + ' to learn more about interactive tables.';\n",
              "        element.innerHTML = '';\n",
              "        dataTable['output_type'] = 'display_data';\n",
              "        await google.colab.output.renderOutput(dataTable, element);\n",
              "        const docLink = document.createElement('div');\n",
              "        docLink.innerHTML = docLinkHtml;\n",
              "        element.appendChild(docLink);\n",
              "      }\n",
              "    </script>\n",
              "  </div>\n",
              "\n",
              "\n",
              "<div id=\"df-342e7ab1-0542-4c68-9e42-4e90e982c94c\">\n",
              "  <button class=\"colab-df-quickchart\" onclick=\"quickchart('df-342e7ab1-0542-4c68-9e42-4e90e982c94c')\"\n",
              "            title=\"Suggest charts\"\n",
              "            style=\"display:none;\">\n",
              "\n",
              "<svg xmlns=\"http://www.w3.org/2000/svg\" height=\"24px\"viewBox=\"0 0 24 24\"\n",
              "     width=\"24px\">\n",
              "    <g>\n",
              "        <path d=\"M19 3H5c-1.1 0-2 .9-2 2v14c0 1.1.9 2 2 2h14c1.1 0 2-.9 2-2V5c0-1.1-.9-2-2-2zM9 17H7v-7h2v7zm4 0h-2V7h2v10zm4 0h-2v-4h2v4z\"/>\n",
              "    </g>\n",
              "</svg>\n",
              "  </button>\n",
              "\n",
              "<style>\n",
              "  .colab-df-quickchart {\n",
              "      --bg-color: #E8F0FE;\n",
              "      --fill-color: #1967D2;\n",
              "      --hover-bg-color: #E2EBFA;\n",
              "      --hover-fill-color: #174EA6;\n",
              "      --disabled-fill-color: #AAA;\n",
              "      --disabled-bg-color: #DDD;\n",
              "  }\n",
              "\n",
              "  [theme=dark] .colab-df-quickchart {\n",
              "      --bg-color: #3B4455;\n",
              "      --fill-color: #D2E3FC;\n",
              "      --hover-bg-color: #434B5C;\n",
              "      --hover-fill-color: #FFFFFF;\n",
              "      --disabled-bg-color: #3B4455;\n",
              "      --disabled-fill-color: #666;\n",
              "  }\n",
              "\n",
              "  .colab-df-quickchart {\n",
              "    background-color: var(--bg-color);\n",
              "    border: none;\n",
              "    border-radius: 50%;\n",
              "    cursor: pointer;\n",
              "    display: none;\n",
              "    fill: var(--fill-color);\n",
              "    height: 32px;\n",
              "    padding: 0;\n",
              "    width: 32px;\n",
              "  }\n",
              "\n",
              "  .colab-df-quickchart:hover {\n",
              "    background-color: var(--hover-bg-color);\n",
              "    box-shadow: 0 1px 2px rgba(60, 64, 67, 0.3), 0 1px 3px 1px rgba(60, 64, 67, 0.15);\n",
              "    fill: var(--button-hover-fill-color);\n",
              "  }\n",
              "\n",
              "  .colab-df-quickchart-complete:disabled,\n",
              "  .colab-df-quickchart-complete:disabled:hover {\n",
              "    background-color: var(--disabled-bg-color);\n",
              "    fill: var(--disabled-fill-color);\n",
              "    box-shadow: none;\n",
              "  }\n",
              "\n",
              "  .colab-df-spinner {\n",
              "    border: 2px solid var(--fill-color);\n",
              "    border-color: transparent;\n",
              "    border-bottom-color: var(--fill-color);\n",
              "    animation:\n",
              "      spin 1s steps(1) infinite;\n",
              "  }\n",
              "\n",
              "  @keyframes spin {\n",
              "    0% {\n",
              "      border-color: transparent;\n",
              "      border-bottom-color: var(--fill-color);\n",
              "      border-left-color: var(--fill-color);\n",
              "    }\n",
              "    20% {\n",
              "      border-color: transparent;\n",
              "      border-left-color: var(--fill-color);\n",
              "      border-top-color: var(--fill-color);\n",
              "    }\n",
              "    30% {\n",
              "      border-color: transparent;\n",
              "      border-left-color: var(--fill-color);\n",
              "      border-top-color: var(--fill-color);\n",
              "      border-right-color: var(--fill-color);\n",
              "    }\n",
              "    40% {\n",
              "      border-color: transparent;\n",
              "      border-right-color: var(--fill-color);\n",
              "      border-top-color: var(--fill-color);\n",
              "    }\n",
              "    60% {\n",
              "      border-color: transparent;\n",
              "      border-right-color: var(--fill-color);\n",
              "    }\n",
              "    80% {\n",
              "      border-color: transparent;\n",
              "      border-right-color: var(--fill-color);\n",
              "      border-bottom-color: var(--fill-color);\n",
              "    }\n",
              "    90% {\n",
              "      border-color: transparent;\n",
              "      border-bottom-color: var(--fill-color);\n",
              "    }\n",
              "  }\n",
              "</style>\n",
              "\n",
              "  <script>\n",
              "    async function quickchart(key) {\n",
              "      const quickchartButtonEl =\n",
              "        document.querySelector('#' + key + ' button');\n",
              "      quickchartButtonEl.disabled = true;  // To prevent multiple clicks.\n",
              "      quickchartButtonEl.classList.add('colab-df-spinner');\n",
              "      try {\n",
              "        const charts = await google.colab.kernel.invokeFunction(\n",
              "            'suggestCharts', [key], {});\n",
              "      } catch (error) {\n",
              "        console.error('Error during call to suggestCharts:', error);\n",
              "      }\n",
              "      quickchartButtonEl.classList.remove('colab-df-spinner');\n",
              "      quickchartButtonEl.classList.add('colab-df-quickchart-complete');\n",
              "    }\n",
              "    (() => {\n",
              "      let quickchartButtonEl =\n",
              "        document.querySelector('#df-342e7ab1-0542-4c68-9e42-4e90e982c94c button');\n",
              "      quickchartButtonEl.style.display =\n",
              "        google.colab.kernel.accessAllowed ? 'block' : 'none';\n",
              "    })();\n",
              "  </script>\n",
              "</div>\n",
              "    </div>\n",
              "  </div>\n"
            ]
          },
          "metadata": {},
          "execution_count": 117
        }
      ]
    },
    {
      "cell_type": "code",
      "source": [
        "feeling1.isnull().sum()"
      ],
      "metadata": {
        "colab": {
          "base_uri": "https://localhost:8080/"
        },
        "id": "MUGlVDjZ_Olh",
        "outputId": "bb89ce70-6973-4f31-f275-babcb4dc932c"
      },
      "execution_count": null,
      "outputs": [
        {
          "output_type": "execute_result",
          "data": {
            "text/plain": [
              "Current_Living_Area              0\n",
              "Monthly_Family_Income            0\n",
              "Smoking_Habit                    0\n",
              "Eating_Large_Meals_or_Snacks     0\n",
              "Physical_Exercise                0\n",
              "Physical_Activity               12\n",
              "Sound_Sleep_At_Night             0\n",
              "Physical_Disturbance             0\n",
              "Feeling_Lonely                   0\n",
              "Feeling_Depressed                0\n",
              "Feeling_Anxious                  0\n",
              "Had_Suicidial_Thoughts           0\n",
              "Had_Conflicts                    0\n",
              "Been_Abused                      0\n",
              "dtype: int64"
            ]
          },
          "metadata": {},
          "execution_count": 118
        }
      ]
    },
    {
      "cell_type": "markdown",
      "source": [
        "## Discover and Visualize Data to Gain Insights"
      ],
      "metadata": {
        "id": "znVPUe9CBUqa"
      }
    },
    {
      "cell_type": "markdown",
      "source": [
        "### Visualizing Geographical Data"
      ],
      "metadata": {
        "id": "mL3PEftUIv1f"
      }
    },
    {
      "cell_type": "code",
      "source": [
        "sns.stripplot(data=feeling1, x=\"Eating_Large_Meals_or_Snacks\")"
      ],
      "metadata": {
        "colab": {
          "base_uri": "https://localhost:8080/",
          "height": 468
        },
        "id": "jnFDJzUFHOIi",
        "outputId": "ee2b27b9-62c1-49c7-b45b-916cdae05d36"
      },
      "execution_count": null,
      "outputs": [
        {
          "output_type": "execute_result",
          "data": {
            "text/plain": [
              "<Axes: xlabel='Eating_Large_Meals_or_Snacks'>"
            ]
          },
          "metadata": {},
          "execution_count": 119
        },
        {
          "output_type": "display_data",
          "data": {
            "text/plain": [
              "<Figure size 640x480 with 1 Axes>"
            ],
            "image/png": "[encoded data removed]"
          },
          "metadata": {}
        }
      ]
    },
    {
      "cell_type": "markdown",
      "source": [
        "### Looking For Correlations"
      ],
      "metadata": {
        "id": "6Ggxq2i1Jodn"
      }
    },
    {
      "cell_type": "code",
      "source": [
        "feeling1.corr()"
      ],
      "metadata": {
        "colab": {
          "base_uri": "https://localhost:8080/",
          "height": 110
        },
        "id": "qtwwNgYOJmp0",
        "outputId": "a0e5bab8-62bf-45c0-b022-3fdc51ea6cd0"
      },
      "execution_count": null,
      "outputs": [
        {
          "output_type": "stream",
          "name": "stderr",
          "text": [
            "<ipython-input-120-60cec74542f3>:1: FutureWarning: The default value of numeric_only in DataFrame.corr is deprecated. In a future version, it will default to False. Select only valid columns or specify the value of numeric_only to silence this warning.\n",
            "  feeling1.corr()\n"
          ]
        },
        {
          "output_type": "execute_result",
          "data": {
            "text/plain": [
              "Empty DataFrame\n",
              "Columns: []\n",
              "Index: []"
            ],
            "text/html": [
              "\n",
              "  <div id=\"df-640f8499-c160-4cbf-83bd-7667373575fd\" class=\"colab-df-container\">\n",
              "    <div>\n",
              "<style scoped>\n",
              "    .dataframe tbody tr th:only-of-type {\n",
              "        vertical-align: middle;\n",
              "    }\n",
              "\n",
              "    .dataframe tbody tr th {\n",
              "        vertical-align: top;\n",
              "    }\n",
              "\n",
              "    .dataframe thead th {\n",
              "        text-align: right;\n",
              "    }\n",
              "</style>\n",
              "<table border=\"1\" class=\"dataframe\">\n",
              "  <thead>\n",
              "    <tr style=\"text-align: right;\">\n",
              "      <th></th>\n",
              "    </tr>\n",
              "  </thead>\n",
              "  <tbody>\n",
              "  </tbody>\n",
              "</table>\n",
              "</div>\n",
              "    <div class=\"colab-df-buttons\">\n",
              "\n",
              "  <div class=\"colab-df-container\">\n",
              "    <button class=\"colab-df-convert\" onclick=\"convertToInteractive('df-640f8499-c160-4cbf-83bd-7667373575fd')\"\n",
              "            title=\"Convert this dataframe to an interactive table.\"\n",
              "            style=\"display:none;\">\n",
              "\n",
              "  <svg xmlns=\"http://www.w3.org/2000/svg\" height=\"24px\" viewBox=\"0 -960 960 960\">\n",
              "    <path d=\"M120-120v-720h720v720H120Zm60-500h600v-160H180v160Zm220 220h160v-160H400v160Zm0 220h160v-160H400v160ZM180-400h160v-160H180v160Zm440 0h160v-160H620v160ZM180-180h160v-160H180v160Zm440 0h160v-160H620v160Z\"/>\n",
              "  </svg>\n",
              "    </button>\n",
              "\n",
              "  <style>\n",
              "    .colab-df-container {\n",
              "      display:flex;\n",
              "      gap: 12px;\n",
              "    }\n",
              "\n",
              "    .colab-df-convert {\n",
              "      background-color: #E8F0FE;\n",
              "      border: none;\n",
              "      border-radius: 50%;\n",
              "      cursor: pointer;\n",
              "      display: none;\n",
              "      fill: #1967D2;\n",
              "      height: 32px;\n",
              "      padding: 0 0 0 0;\n",
              "      width: 32px;\n",
              "    }\n",
              "\n",
              "    .colab-df-convert:hover {\n",
              "      background-color: #E2EBFA;\n",
              "      box-shadow: 0px 1px 2px rgba(60, 64, 67, 0.3), 0px 1px 3px 1px rgba(60, 64, 67, 0.15);\n",
              "      fill: #174EA6;\n",
              "    }\n",
              "\n",
              "    .colab-df-buttons div {\n",
              "      margin-bottom: 4px;\n",
              "    }\n",
              "\n",
              "    [theme=dark] .colab-df-convert {\n",
              "      background-color: #3B4455;\n",
              "      fill: #D2E3FC;\n",
              "    }\n",
              "\n",
              "    [theme=dark] .colab-df-convert:hover {\n",
              "      background-color: #434B5C;\n",
              "      box-shadow: 0px 1px 3px 1px rgba(0, 0, 0, 0.15);\n",
              "      filter: drop-shadow(0px 1px 2px rgba(0, 0, 0, 0.3));\n",
              "      fill: #FFFFFF;\n",
              "    }\n",
              "  </style>\n",
              "\n",
              "    <script>\n",
              "      const buttonEl =\n",
              "        document.querySelector('#df-640f8499-c160-4cbf-83bd-7667373575fd button.colab-df-convert');\n",
              "      buttonEl.style.display =\n",
              "        google.colab.kernel.accessAllowed ? 'block' : 'none';\n",
              "\n",
              "      async function convertToInteractive(key) {\n",
              "        const element = document.querySelector('#df-640f8499-c160-4cbf-83bd-7667373575fd');\n",
              "        const dataTable =\n",
              "          await google.colab.kernel.invokeFunction('convertToInteractive',\n",
              "                                                    [key], {});\n",
              "        if (!dataTable) return;\n",
              "\n",
              "        const docLinkHtml = 'Like what you see? Visit the ' +\n",
              "          '<a target=\"_blank\" href=https://colab.research.google.com/notebooks/data_table.ipynb>data table notebook</a>'\n",
              "          + ' to learn more about interactive tables.';\n",
              "        element.innerHTML = '';\n",
              "        dataTable['output_type'] = 'display_data';\n",
              "        await google.colab.output.renderOutput(dataTable, element);\n",
              "        const docLink = document.createElement('div');\n",
              "        docLink.innerHTML = docLinkHtml;\n",
              "        element.appendChild(docLink);\n",
              "      }\n",
              "    </script>\n",
              "  </div>\n",
              "\n",
              "    </div>\n",
              "  </div>\n"
            ]
          },
          "metadata": {},
          "execution_count": 120
        }
      ]
    },
    {
      "cell_type": "markdown",
      "source": [
        "## Prepare Data For Machine Learning Algorithms"
      ],
      "metadata": {
        "id": "VvOMovon_iJe"
      }
    },
    {
      "cell_type": "markdown",
      "source": [
        "### Data Cleaning"
      ],
      "metadata": {
        "id": "wd-nrIWGLEl9"
      }
    },
    {
      "cell_type": "code",
      "source": [
        "mode = feeling1[\"Physical_Activity\"].mode()  # option 3\n",
        "feeling1[\"Physical_Activity\"].fillna(mode, inplace=True)"
      ],
      "metadata": {
        "colab": {
          "base_uri": "https://localhost:8080/"
        },
        "id": "SBxGqJcv_m-8",
        "outputId": "1bdc0ee2-7ae7-4dbb-d47f-6ed2a6e58e16"
      },
      "execution_count": null,
      "outputs": [
        {
          "output_type": "stream",
          "name": "stderr",
          "text": [
            "<ipython-input-121-66ef7bc6c60e>:2: SettingWithCopyWarning: \n",
            "A value is trying to be set on a copy of a slice from a DataFrame\n",
            "\n",
            "See the caveats in the documentation: https://pandas.pydata.org/pandas-docs/stable/user_guide/indexing.html#returning-a-view-versus-a-copy\n",
            "  feeling1[\"Physical_Activity\"].fillna(mode, inplace=True)\n"
          ]
        }
      ]
    },
    {
      "cell_type": "markdown",
      "source": [
        "### Handling Categorical Attributes"
      ],
      "metadata": {
        "id": "gU9p8p2KLa7L"
      }
    },
    {
      "cell_type": "markdown",
      "source": [
        "#### Label Encoder\n"
      ],
      "metadata": {
        "id": "xwa0P88azFCk"
      }
    },
    {
      "cell_type": "code",
      "source": [
        "#Label Encoding is a technique that is used to convert categorical columns into numerical\n",
        "from sklearn.preprocessing import LabelEncoder\n",
        "\n",
        "# Initialize the label encoder\n",
        "label_encoder = LabelEncoder()"
      ],
      "metadata": {
        "id": "dFrxNmjvzJiC"
      },
      "execution_count": null,
      "outputs": []
    },
    {
      "cell_type": "code",
      "source": [
        "feeling1.Current_Living_Area = label_encoder.fit_transform(feeling1.Current_Living_Area)\n",
        "feeling1.Monthly_Family_Income = label_encoder.fit_transform(feeling1.Monthly_Family_Income)\n",
        "feeling1.Smoking_Habit = label_encoder.fit_transform(feeling1.Smoking_Habit)\n",
        "feeling1.Eating_Large_Meals_or_Snacks = label_encoder.fit_transform(feeling1.Eating_Large_Meals_or_Snacks)\n",
        "feeling1.Physical_Exercise = label_encoder.fit_transform(feeling1.Physical_Exercise)\n",
        "feeling1.Physical_Activity = label_encoder.fit_transform(feeling1.Physical_Activity)\n",
        "feeling1.Sound_Sleep_At_Night = label_encoder.fit_transform(feeling1.Sound_Sleep_At_Night)\n",
        "feeling1.Physical_Disturbance = label_encoder.fit_transform(feeling1.Physical_Disturbance)\n",
        "feeling1.Feeling_Lonely = label_encoder.fit_transform(feeling1.Feeling_Lonely)\n",
        "feeling1.Feeling_Depressed = label_encoder.fit_transform(feeling1.Feeling_Depressed)\n",
        "feeling1.Feeling_Anxious = label_encoder.fit_transform(feeling1.Feeling_Anxious)\n",
        "feeling1.Had_Suicidial_Thoughts = label_encoder.fit_transform(feeling1.Had_Suicidial_Thoughts)\n",
        "feeling1.Had_Conflicts = label_encoder.fit_transform(feeling1.Had_Conflicts)\n",
        "feeling1.Been_Abused = label_encoder.fit_transform(feeling1.Been_Abused)"
      ],
      "metadata": {
        "colab": {
          "base_uri": "https://localhost:8080/"
        },
        "id": "5kTfOzfozOpK",
        "outputId": "c50fa8fc-1362-44c5-c262-4c7485bb0ed0"
      },
      "execution_count": null,
      "outputs": [
        {
          "output_type": "stream",
          "name": "stderr",
          "text": [
            "<ipython-input-123-98c37bb68b10>:1: SettingWithCopyWarning: \n",
            "A value is trying to be set on a copy of a slice from a DataFrame.\n",
            "Try using .loc[row_indexer,col_indexer] = value instead\n",
            "\n",
            "See the caveats in the documentation: https://pandas.pydata.org/pandas-docs/stable/user_guide/indexing.html#returning-a-view-versus-a-copy\n",
            "  feeling1.Current_Living_Area = label_encoder.fit_transform(feeling1.Current_Living_Area)\n",
            "<ipython-input-123-98c37bb68b10>:2: SettingWithCopyWarning: \n",
            "A value is trying to be set on a copy of a slice from a DataFrame.\n",
            "Try using .loc[row_indexer,col_indexer] = value instead\n",
            "\n",
            "See the caveats in the documentation: https://pandas.pydata.org/pandas-docs/stable/user_guide/indexing.html#returning-a-view-versus-a-copy\n",
            "  feeling1.Monthly_Family_Income = label_encoder.fit_transform(feeling1.Monthly_Family_Income)\n",
            "<ipython-input-123-98c37bb68b10>:3: SettingWithCopyWarning: \n",
            "A value is trying to be set on a copy of a slice from a DataFrame.\n",
            "Try using .loc[row_indexer,col_indexer] = value instead\n",
            "\n",
            "See the caveats in the documentation: https://pandas.pydata.org/pandas-docs/stable/user_guide/indexing.html#returning-a-view-versus-a-copy\n",
            "  feeling1.Smoking_Habit = label_encoder.fit_transform(feeling1.Smoking_Habit)\n",
            "<ipython-input-123-98c37bb68b10>:4: SettingWithCopyWarning: \n",
            "A value is trying to be set on a copy of a slice from a DataFrame.\n",
            "Try using .loc[row_indexer,col_indexer] = value instead\n",
            "\n",
            "See the caveats in the documentation: https://pandas.pydata.org/pandas-docs/stable/user_guide/indexing.html#returning-a-view-versus-a-copy\n",
            "  feeling1.Eating_Large_Meals_or_Snacks = label_encoder.fit_transform(feeling1.Eating_Large_Meals_or_Snacks)\n",
            "<ipython-input-123-98c37bb68b10>:5: SettingWithCopyWarning: \n",
            "A value is trying to be set on a copy of a slice from a DataFrame.\n",
            "Try using .loc[row_indexer,col_indexer] = value instead\n",
            "\n",
            "See the caveats in the documentation: https://pandas.pydata.org/pandas-docs/stable/user_guide/indexing.html#returning-a-view-versus-a-copy\n",
            "  feeling1.Physical_Exercise = label_encoder.fit_transform(feeling1.Physical_Exercise)\n",
            "<ipython-input-123-98c37bb68b10>:6: SettingWithCopyWarning: \n",
            "A value is trying to be set on a copy of a slice from a DataFrame.\n",
            "Try using .loc[row_indexer,col_indexer] = value instead\n",
            "\n",
            "See the caveats in the documentation: https://pandas.pydata.org/pandas-docs/stable/user_guide/indexing.html#returning-a-view-versus-a-copy\n",
            "  feeling1.Physical_Activity = label_encoder.fit_transform(feeling1.Physical_Activity)\n",
            "<ipython-input-123-98c37bb68b10>:7: SettingWithCopyWarning: \n",
            "A value is trying to be set on a copy of a slice from a DataFrame.\n",
            "Try using .loc[row_indexer,col_indexer] = value instead\n",
            "\n",
            "See the caveats in the documentation: https://pandas.pydata.org/pandas-docs/stable/user_guide/indexing.html#returning-a-view-versus-a-copy\n",
            "  feeling1.Sound_Sleep_At_Night = label_encoder.fit_transform(feeling1.Sound_Sleep_At_Night)\n",
            "<ipython-input-123-98c37bb68b10>:8: SettingWithCopyWarning: \n",
            "A value is trying to be set on a copy of a slice from a DataFrame.\n",
            "Try using .loc[row_indexer,col_indexer] = value instead\n",
            "\n",
            "See the caveats in the documentation: https://pandas.pydata.org/pandas-docs/stable/user_guide/indexing.html#returning-a-view-versus-a-copy\n",
            "  feeling1.Physical_Disturbance = label_encoder.fit_transform(feeling1.Physical_Disturbance)\n",
            "<ipython-input-123-98c37bb68b10>:9: SettingWithCopyWarning: \n",
            "A value is trying to be set on a copy of a slice from a DataFrame.\n",
            "Try using .loc[row_indexer,col_indexer] = value instead\n",
            "\n",
            "See the caveats in the documentation: https://pandas.pydata.org/pandas-docs/stable/user_guide/indexing.html#returning-a-view-versus-a-copy\n",
            "  feeling1.Feeling_Lonely = label_encoder.fit_transform(feeling1.Feeling_Lonely)\n",
            "<ipython-input-123-98c37bb68b10>:10: SettingWithCopyWarning: \n",
            "A value is trying to be set on a copy of a slice from a DataFrame.\n",
            "Try using .loc[row_indexer,col_indexer] = value instead\n",
            "\n",
            "See the caveats in the documentation: https://pandas.pydata.org/pandas-docs/stable/user_guide/indexing.html#returning-a-view-versus-a-copy\n",
            "  feeling1.Feeling_Depressed = label_encoder.fit_transform(feeling1.Feeling_Depressed)\n",
            "<ipython-input-123-98c37bb68b10>:11: SettingWithCopyWarning: \n",
            "A value is trying to be set on a copy of a slice from a DataFrame.\n",
            "Try using .loc[row_indexer,col_indexer] = value instead\n",
            "\n",
            "See the caveats in the documentation: https://pandas.pydata.org/pandas-docs/stable/user_guide/indexing.html#returning-a-view-versus-a-copy\n",
            "  feeling1.Feeling_Anxious = label_encoder.fit_transform(feeling1.Feeling_Anxious)\n",
            "<ipython-input-123-98c37bb68b10>:12: SettingWithCopyWarning: \n",
            "A value is trying to be set on a copy of a slice from a DataFrame.\n",
            "Try using .loc[row_indexer,col_indexer] = value instead\n",
            "\n",
            "See the caveats in the documentation: https://pandas.pydata.org/pandas-docs/stable/user_guide/indexing.html#returning-a-view-versus-a-copy\n",
            "  feeling1.Had_Suicidial_Thoughts = label_encoder.fit_transform(feeling1.Had_Suicidial_Thoughts)\n",
            "<ipython-input-123-98c37bb68b10>:13: SettingWithCopyWarning: \n",
            "A value is trying to be set on a copy of a slice from a DataFrame.\n",
            "Try using .loc[row_indexer,col_indexer] = value instead\n",
            "\n",
            "See the caveats in the documentation: https://pandas.pydata.org/pandas-docs/stable/user_guide/indexing.html#returning-a-view-versus-a-copy\n",
            "  feeling1.Had_Conflicts = label_encoder.fit_transform(feeling1.Had_Conflicts)\n",
            "<ipython-input-123-98c37bb68b10>:14: SettingWithCopyWarning: \n",
            "A value is trying to be set on a copy of a slice from a DataFrame.\n",
            "Try using .loc[row_indexer,col_indexer] = value instead\n",
            "\n",
            "See the caveats in the documentation: https://pandas.pydata.org/pandas-docs/stable/user_guide/indexing.html#returning-a-view-versus-a-copy\n",
            "  feeling1.Been_Abused = label_encoder.fit_transform(feeling1.Been_Abused)\n"
          ]
        }
      ]
    },
    {
      "cell_type": "code",
      "source": [
        "feeling1.info()"
      ],
      "metadata": {
        "colab": {
          "base_uri": "https://localhost:8080/"
        },
        "id": "e5AhPjj4OSvV",
        "outputId": "d9a8f29a-83a0-4198-f2bd-2c06686425cc"
      },
      "execution_count": null,
      "outputs": [
        {
          "output_type": "stream",
          "name": "stdout",
          "text": [
            "<class 'pandas.core.frame.DataFrame'>\n",
            "RangeIndex: 1602 entries, 0 to 1601\n",
            "Data columns (total 14 columns):\n",
            " #   Column                        Non-Null Count  Dtype\n",
            "---  ------                        --------------  -----\n",
            " 0   Current_Living_Area           1602 non-null   int64\n",
            " 1   Monthly_Family_Income         1602 non-null   int64\n",
            " 2   Smoking_Habit                 1602 non-null   int64\n",
            " 3   Eating_Large_Meals_or_Snacks  1602 non-null   int64\n",
            " 4   Physical_Exercise             1602 non-null   int64\n",
            " 5   Physical_Activity             1602 non-null   int64\n",
            " 6   Sound_Sleep_At_Night          1602 non-null   int64\n",
            " 7   Physical_Disturbance          1602 non-null   int64\n",
            " 8   Feeling_Lonely                1602 non-null   int64\n",
            " 9   Feeling_Depressed             1602 non-null   int64\n",
            " 10  Feeling_Anxious               1602 non-null   int64\n",
            " 11  Had_Suicidial_Thoughts        1602 non-null   int64\n",
            " 12  Had_Conflicts                 1602 non-null   int64\n",
            " 13  Been_Abused                   1602 non-null   int64\n",
            "dtypes: int64(14)\n",
            "memory usage: 175.3 KB\n"
          ]
        }
      ]
    },
    {
      "cell_type": "code",
      "source": [
        "sns.heatmap(feeling1.corr())"
      ],
      "metadata": {
        "colab": {
          "base_uri": "https://localhost:8080/",
          "height": 674
        },
        "id": "xGrhuca1xfCw",
        "outputId": "58e627dc-02e6-40e6-c42d-d62e1124ba4c"
      },
      "execution_count": null,
      "outputs": [
        {
          "output_type": "execute_result",
          "data": {
            "text/plain": [
              "<Axes: >"
            ]
          },
          "metadata": {},
          "execution_count": 160
        },
        {
          "output_type": "display_data",
          "data": {
            "text/plain": [
              "<Figure size 640x480 with 2 Axes>"
            ],
            "image/png": "[encoded data removed]"
          },
          "metadata": {}
        }
      ]
    },
    {
      "cell_type": "markdown",
      "source": [
        "## Select and Train Model"
      ],
      "metadata": {
        "id": "U_IHdY4ZQFp9"
      }
    },
    {
      "cell_type": "markdown",
      "source": [
        "### Create a Test set"
      ],
      "metadata": {
        "id": "E6e2BtBeAL_b"
      }
    },
    {
      "cell_type": "code",
      "source": [
        "feeling1.shape"
      ],
      "metadata": {
        "id": "yo5ozkDtw0QQ",
        "outputId": "1f884bbd-2fec-4d24-a4e4-5852afb238ce",
        "colab": {
          "base_uri": "https://localhost:8080/"
        }
      },
      "execution_count": null,
      "outputs": [
        {
          "output_type": "execute_result",
          "data": {
            "text/plain": [
              "(1602, 14)"
            ]
          },
          "metadata": {},
          "execution_count": 125
        }
      ]
    },
    {
      "cell_type": "code",
      "source": [
        "X = feeling1.drop('Feeling_Depressed', axis=1)\n",
        "y = feeling1.Feeling_Depressed"
      ],
      "metadata": {
        "id": "H-NdL0onAJ4z"
      },
      "execution_count": null,
      "outputs": []
    },
    {
      "cell_type": "code",
      "source": [
        "from sklearn.model_selection import train_test_split\n",
        "\n",
        "X_train, X_test, y_train, y_test = train_test_split(X,y, test_size=0.2, random_state=42)"
      ],
      "metadata": {
        "id": "yh__igtWBCXF"
      },
      "execution_count": null,
      "outputs": []
    },
    {
      "cell_type": "markdown",
      "source": [
        "### Logistic Regression"
      ],
      "metadata": {
        "id": "xiUqKRiwcaB8"
      }
    },
    {
      "cell_type": "markdown",
      "source": [
        "#### Training and Evoulution on the Training Set"
      ],
      "metadata": {
        "id": "i67FwxIlaOYN"
      }
    },
    {
      "cell_type": "code",
      "source": [
        "from sklearn.linear_model import LogisticRegression  # for Logistic Regression algorithm\n",
        "from sklearn.model_selection import train_test_split #to split the dataset for training and testing\n",
        "from sklearn import metrics #for checking the model accuracy\n",
        "from sklearn.metrics import precision_score, recall_score, f1_score, roc_curve\n",
        "from sklearn.pipeline import make_pipeline\n",
        "from sklearn.preprocessing import OneHotEncoder"
      ],
      "metadata": {
        "id": "gD5FHBTmQwTI"
      },
      "execution_count": null,
      "outputs": []
    },
    {
      "cell_type": "code",
      "source": [
        "from sklearn.linear_model import LogisticRegression\n",
        "\n",
        "log_reg = LogisticRegression(C=0.1,random_state=0)\n",
        "log_reg.fit(X_train, y_train)"
      ],
      "metadata": {
        "colab": {
          "base_uri": "https://localhost:8080/",
          "height": 74
        },
        "id": "pPw-iQ0paV1c",
        "outputId": "80d4fa4a-c8fb-41cd-ea30-5e4a7b1ae62e"
      },
      "execution_count": null,
      "outputs": [
        {
          "output_type": "execute_result",
          "data": {
            "text/plain": [
              "LogisticRegression(C=0.1, random_state=0)"
            ],
            "text/html": [
              "<style>#sk-container-id-5 {color: black;background-color: white;}#sk-container-id-5 pre{padding: 0;}#sk-container-id-5 div.sk-toggleable {background-color: white;}#sk-container-id-5 label.sk-toggleable__label {cursor: pointer;display: block;width: 100%;margin-bottom: 0;padding: 0.3em;box-sizing: border-box;text-align: center;}#sk-container-id-5 label.sk-toggleable__label-arrow:before {content: \"▸\";float: left;margin-right: 0.25em;color: #696969;}#sk-container-id-5 label.sk-toggleable__label-arrow:hover:before {color: black;}#sk-container-id-5 div.sk-estimator:hover label.sk-toggleable__label-arrow:before {color: black;}#sk-container-id-5 div.sk-toggleable__content {max-height: 0;max-width: 0;overflow: hidden;text-align: left;background-color: #f0f8ff;}#sk-container-id-5 div.sk-toggleable__content pre {margin: 0.2em;color: black;border-radius: 0.25em;background-color: #f0f8ff;}#sk-container-id-5 input.sk-toggleable__control:checked~div.sk-toggleable__content {max-height: 200px;max-width: 100%;overflow: auto;}#sk-container-id-5 input.sk-toggleable__control:checked~label.sk-toggleable__label-arrow:before {content: \"▾\";}#sk-container-id-5 div.sk-estimator input.sk-toggleable__control:checked~label.sk-toggleable__label {background-color: #d4ebff;}#sk-container-id-5 div.sk-label input.sk-toggleable__control:checked~label.sk-toggleable__label {background-color: #d4ebff;}#sk-container-id-5 input.sk-hidden--visually {border: 0;clip: rect(1px 1px 1px 1px);clip: rect(1px, 1px, 1px, 1px);height: 1px;margin: -1px;overflow: hidden;padding: 0;position: absolute;width: 1px;}#sk-container-id-5 div.sk-estimator {font-family: monospace;background-color: #f0f8ff;border: 1px dotted black;border-radius: 0.25em;box-sizing: border-box;margin-bottom: 0.5em;}#sk-container-id-5 div.sk-estimator:hover {background-color: #d4ebff;}#sk-container-id-5 div.sk-parallel-item::after {content: \"\";width: 100%;border-bottom: 1px solid gray;flex-grow: 1;}#sk-container-id-5 div.sk-label:hover label.sk-toggleable__label {background-color: #d4ebff;}#sk-container-id-5 div.sk-serial::before {content: \"\";position: absolute;border-left: 1px solid gray;box-sizing: border-box;top: 0;bottom: 0;left: 50%;z-index: 0;}#sk-container-id-5 div.sk-serial {display: flex;flex-direction: column;align-items: center;background-color: white;padding-right: 0.2em;padding-left: 0.2em;position: relative;}#sk-container-id-5 div.sk-item {position: relative;z-index: 1;}#sk-container-id-5 div.sk-parallel {display: flex;align-items: stretch;justify-content: center;background-color: white;position: relative;}#sk-container-id-5 div.sk-item::before, #sk-container-id-5 div.sk-parallel-item::before {content: \"\";position: absolute;border-left: 1px solid gray;box-sizing: border-box;top: 0;bottom: 0;left: 50%;z-index: -1;}#sk-container-id-5 div.sk-parallel-item {display: flex;flex-direction: column;z-index: 1;position: relative;background-color: white;}#sk-container-id-5 div.sk-parallel-item:first-child::after {align-self: flex-end;width: 50%;}#sk-container-id-5 div.sk-parallel-item:last-child::after {align-self: flex-start;width: 50%;}#sk-container-id-5 div.sk-parallel-item:only-child::after {width: 0;}#sk-container-id-5 div.sk-dashed-wrapped {border: 1px dashed gray;margin: 0 0.4em 0.5em 0.4em;box-sizing: border-box;padding-bottom: 0.4em;background-color: white;}#sk-container-id-5 div.sk-label label {font-family: monospace;font-weight: bold;display: inline-block;line-height: 1.2em;}#sk-container-id-5 div.sk-label-container {text-align: center;}#sk-container-id-5 div.sk-container {/* jupyter's `normalize.less` sets `[hidden] { display: none; }` but bootstrap.min.css set `[hidden] { display: none !important; }` so we also need the `!important` here to be able to override the default hidden behavior on the sphinx rendered scikit-learn.org. See: https://github.com/scikit-learn/scikit-learn/issues/21755 */display: inline-block !important;position: relative;}#sk-container-id-5 div.sk-text-repr-fallback {display: none;}</style><div id=\"sk-container-id-5\" class=\"sk-top-container\"><div class=\"sk-text-repr-fallback\"><pre>LogisticRegression(C=0.1, random_state=0)</pre><b>In a Jupyter environment, please rerun this cell to show the HTML representation or trust the notebook. <br />On GitHub, the HTML representation is unable to render, please try loading this page with nbviewer.org.</b></div><div class=\"sk-container\" hidden><div class=\"sk-item\"><div class=\"sk-estimator sk-toggleable\"><input class=\"sk-toggleable__control sk-hidden--visually\" id=\"sk-estimator-id-5\" type=\"checkbox\" checked><label for=\"sk-estimator-id-5\" class=\"sk-toggleable__label sk-toggleable__label-arrow\">LogisticRegression</label><div class=\"sk-toggleable__content\"><pre>LogisticRegression(C=0.1, random_state=0)</pre></div></div></div></div></div>"
            ]
          },
          "metadata": {},
          "execution_count": 129
        }
      ]
    },
    {
      "cell_type": "code",
      "source": [
        "feeling1_predictions = log_reg.predict(X_test)\n",
        "feeling1_predictions[:5]"
      ],
      "metadata": {
        "colab": {
          "base_uri": "https://localhost:8080/"
        },
        "id": "3LS7byhFbF18",
        "outputId": "69b3da77-d40a-4070-ee38-08861720e469"
      },
      "execution_count": null,
      "outputs": [
        {
          "output_type": "execute_result",
          "data": {
            "text/plain": [
              "array([1, 1, 1, 1, 1])"
            ]
          },
          "metadata": {},
          "execution_count": 130
        }
      ]
    },
    {
      "cell_type": "code",
      "source": [
        "print('The accuracy of the Logistic Regression is',metrics.accuracy_score(y_test,feeling1_predictions))"
      ],
      "metadata": {
        "colab": {
          "base_uri": "https://localhost:8080/"
        },
        "id": "kzq350nnQov5",
        "outputId": "9fde6744-a281-4e7b-dd31-6df19b843938"
      },
      "execution_count": null,
      "outputs": [
        {
          "output_type": "stream",
          "name": "stdout",
          "text": [
            "The accuracy of the Logistic Regression is 0.8286604361370716\n"
          ]
        }
      ]
    },
    {
      "cell_type": "code",
      "source": [
        "from sklearn.metrics import precision_score\n",
        "print('The precision of the Logistic Regression is',precision_score(y_test,feeling1_predictions))"
      ],
      "metadata": {
        "colab": {
          "base_uri": "https://localhost:8080/"
        },
        "id": "NoeJk9UwWuAr",
        "outputId": "72d1e4fa-d22a-4b1d-e5c8-a42674ca8335"
      },
      "execution_count": null,
      "outputs": [
        {
          "output_type": "stream",
          "name": "stdout",
          "text": [
            "The precision of the Logistic Regression is 0.8482490272373541\n"
          ]
        }
      ]
    },
    {
      "cell_type": "code",
      "source": [
        "from sklearn.metrics import recall_score\n",
        "print('The recall of the Logistic Regression is',recall_score(y_test,feeling1_predictions))"
      ],
      "metadata": {
        "colab": {
          "base_uri": "https://localhost:8080/"
        },
        "id": "NfwZ5tWPbm89",
        "outputId": "ee49bb32-7e86-45f9-f1a6-e65a567544c4"
      },
      "execution_count": null,
      "outputs": [
        {
          "output_type": "stream",
          "name": "stdout",
          "text": [
            "The recall of the Logistic Regression is 0.9316239316239316\n"
          ]
        }
      ]
    },
    {
      "cell_type": "code",
      "source": [
        "from sklearn.metrics import f1_score\n",
        "print('The f1_score of the Logistic Regression is',f1_score(y_test,feeling1_predictions))"
      ],
      "metadata": {
        "colab": {
          "base_uri": "https://localhost:8080/"
        },
        "id": "2IIqq9LNboXH",
        "outputId": "ab638227-b5b5-4a8e-f2a6-ecfe25a43400"
      },
      "execution_count": null,
      "outputs": [
        {
          "output_type": "stream",
          "name": "stdout",
          "text": [
            "The f1_score of the Logistic Regression is 0.8879837067209776\n"
          ]
        }
      ]
    },
    {
      "cell_type": "code",
      "source": [
        "from sklearn import metrics\n",
        "from sklearn.metrics import confusion_matrix\n",
        "from sklearn.metrics import classification_report"
      ],
      "metadata": {
        "id": "XhQHAUxdRaay"
      },
      "execution_count": null,
      "outputs": []
    },
    {
      "cell_type": "code",
      "source": [
        "log_confusion = confusion_matrix(y_test, feeling1_predictions)"
      ],
      "metadata": {
        "id": "5wxUxNCyRRPk"
      },
      "execution_count": null,
      "outputs": []
    },
    {
      "cell_type": "code",
      "source": [
        "y_test.value_counts()"
      ],
      "metadata": {
        "colab": {
          "base_uri": "https://localhost:8080/"
        },
        "id": "FWZVJOwqStYD",
        "outputId": "3dadcd6a-6f76-4acc-f4cd-319a2be3bbff"
      },
      "execution_count": null,
      "outputs": [
        {
          "output_type": "execute_result",
          "data": {
            "text/plain": [
              "1    234\n",
              "0     87\n",
              "Name: Feeling_Depressed, dtype: int64"
            ]
          },
          "metadata": {},
          "execution_count": 137
        }
      ]
    },
    {
      "cell_type": "code",
      "source": [
        "len(feeling1_predictions)"
      ],
      "metadata": {
        "colab": {
          "base_uri": "https://localhost:8080/"
        },
        "id": "HoPua9LJS3sp",
        "outputId": "340c76d6-f023-4c7c-fd28-3a748217e2b7"
      },
      "execution_count": null,
      "outputs": [
        {
          "output_type": "execute_result",
          "data": {
            "text/plain": [
              "321"
            ]
          },
          "metadata": {},
          "execution_count": 138
        }
      ]
    },
    {
      "cell_type": "code",
      "source": [
        "sns.heatmap(log_confusion, annot=True, cmap=\"vlag_r\")\n",
        "plt.title(\"Confusion Matrix\");"
      ],
      "metadata": {
        "colab": {
          "base_uri": "https://localhost:8080/",
          "height": 452
        },
        "id": "fgu9D7dmRifj",
        "outputId": "00ba771a-7d2e-4c04-a106-ca27a0dd1b98"
      },
      "execution_count": null,
      "outputs": [
        {
          "output_type": "display_data",
          "data": {
            "text/plain": [
              "<Figure size 640x480 with 2 Axes>"
            ],
            "image/png": "[encoded data removed]"
          },
          "metadata": {}
        }
      ]
    },
    {
      "cell_type": "code",
      "source": [
        "from sklearn.metrics import RocCurveDisplay\n",
        "RocCurveDisplay.from_estimator(log_reg, X_test, y_test)"
      ],
      "metadata": {
        "colab": {
          "base_uri": "https://localhost:8080/",
          "height": 467
        },
        "id": "uNHaZYBTf7BR",
        "outputId": "aee7f14f-9edf-44e8-fb81-d6875e4170e8"
      },
      "execution_count": null,
      "outputs": [
        {
          "output_type": "execute_result",
          "data": {
            "text/plain": [
              "<sklearn.metrics._plot.roc_curve.RocCurveDisplay at 0x7ff30461bd00>"
            ]
          },
          "metadata": {},
          "execution_count": 140
        },
        {
          "output_type": "display_data",
          "data": {
            "text/plain": [
              "<Figure size 640x480 with 1 Axes>"
            ],
            "image/png": "[encoded data removed]"
          },
          "metadata": {}
        }
      ]
    },
    {
      "cell_type": "markdown",
      "source": [
        "### Support Vector Machine"
      ],
      "metadata": {
        "id": "aXz0ri0zgMw7"
      }
    },
    {
      "cell_type": "markdown",
      "source": [
        "#### Training and Evoulution on the Training Set"
      ],
      "metadata": {
        "id": "uEjweHBmgVbU"
      }
    },
    {
      "cell_type": "code",
      "source": [
        "from sklearn import svm  # for Logistic Regression algorithm\n",
        "from sklearn.model_selection import train_test_split #to split the dataset for training and testing\n",
        "from sklearn import metrics #for checking the model accuracy\n",
        "from sklearn.metrics import precision_score, recall_score, f1_score, roc_curve\n",
        "from sklearn.pipeline import make_pipeline\n",
        "from sklearn.preprocessing import OneHotEncoder"
      ],
      "metadata": {
        "id": "QRY0w44jgVbU"
      },
      "execution_count": null,
      "outputs": []
    },
    {
      "cell_type": "code",
      "source": [
        "svm = svm.SVC(C=0.1,kernel='rbf')\n",
        "svm.fit(X_train, y_train)"
      ],
      "metadata": {
        "colab": {
          "base_uri": "https://localhost:8080/",
          "height": 74
        },
        "outputId": "5357dfca-c8ad-4ea9-c4ca-960b624cc2b4",
        "id": "E502C-PxgVbV"
      },
      "execution_count": null,
      "outputs": [
        {
          "output_type": "execute_result",
          "data": {
            "text/plain": [
              "SVC(C=0.1)"
            ],
            "text/html": [
              "<style>#sk-container-id-6 {color: black;background-color: white;}#sk-container-id-6 pre{padding: 0;}#sk-container-id-6 div.sk-toggleable {background-color: white;}#sk-container-id-6 label.sk-toggleable__label {cursor: pointer;display: block;width: 100%;margin-bottom: 0;padding: 0.3em;box-sizing: border-box;text-align: center;}#sk-container-id-6 label.sk-toggleable__label-arrow:before {content: \"▸\";float: left;margin-right: 0.25em;color: #696969;}#sk-container-id-6 label.sk-toggleable__label-arrow:hover:before {color: black;}#sk-container-id-6 div.sk-estimator:hover label.sk-toggleable__label-arrow:before {color: black;}#sk-container-id-6 div.sk-toggleable__content {max-height: 0;max-width: 0;overflow: hidden;text-align: left;background-color: #f0f8ff;}#sk-container-id-6 div.sk-toggleable__content pre {margin: 0.2em;color: black;border-radius: 0.25em;background-color: #f0f8ff;}#sk-container-id-6 input.sk-toggleable__control:checked~div.sk-toggleable__content {max-height: 200px;max-width: 100%;overflow: auto;}#sk-container-id-6 input.sk-toggleable__control:checked~label.sk-toggleable__label-arrow:before {content: \"▾\";}#sk-container-id-6 div.sk-estimator input.sk-toggleable__control:checked~label.sk-toggleable__label {background-color: #d4ebff;}#sk-container-id-6 div.sk-label input.sk-toggleable__control:checked~label.sk-toggleable__label {background-color: #d4ebff;}#sk-container-id-6 input.sk-hidden--visually {border: 0;clip: rect(1px 1px 1px 1px);clip: rect(1px, 1px, 1px, 1px);height: 1px;margin: -1px;overflow: hidden;padding: 0;position: absolute;width: 1px;}#sk-container-id-6 div.sk-estimator {font-family: monospace;background-color: #f0f8ff;border: 1px dotted black;border-radius: 0.25em;box-sizing: border-box;margin-bottom: 0.5em;}#sk-container-id-6 div.sk-estimator:hover {background-color: #d4ebff;}#sk-container-id-6 div.sk-parallel-item::after {content: \"\";width: 100%;border-bottom: 1px solid gray;flex-grow: 1;}#sk-container-id-6 div.sk-label:hover label.sk-toggleable__label {background-color: #d4ebff;}#sk-container-id-6 div.sk-serial::before {content: \"\";position: absolute;border-left: 1px solid gray;box-sizing: border-box;top: 0;bottom: 0;left: 50%;z-index: 0;}#sk-container-id-6 div.sk-serial {display: flex;flex-direction: column;align-items: center;background-color: white;padding-right: 0.2em;padding-left: 0.2em;position: relative;}#sk-container-id-6 div.sk-item {position: relative;z-index: 1;}#sk-container-id-6 div.sk-parallel {display: flex;align-items: stretch;justify-content: center;background-color: white;position: relative;}#sk-container-id-6 div.sk-item::before, #sk-container-id-6 div.sk-parallel-item::before {content: \"\";position: absolute;border-left: 1px solid gray;box-sizing: border-box;top: 0;bottom: 0;left: 50%;z-index: -1;}#sk-container-id-6 div.sk-parallel-item {display: flex;flex-direction: column;z-index: 1;position: relative;background-color: white;}#sk-container-id-6 div.sk-parallel-item:first-child::after {align-self: flex-end;width: 50%;}#sk-container-id-6 div.sk-parallel-item:last-child::after {align-self: flex-start;width: 50%;}#sk-container-id-6 div.sk-parallel-item:only-child::after {width: 0;}#sk-container-id-6 div.sk-dashed-wrapped {border: 1px dashed gray;margin: 0 0.4em 0.5em 0.4em;box-sizing: border-box;padding-bottom: 0.4em;background-color: white;}#sk-container-id-6 div.sk-label label {font-family: monospace;font-weight: bold;display: inline-block;line-height: 1.2em;}#sk-container-id-6 div.sk-label-container {text-align: center;}#sk-container-id-6 div.sk-container {/* jupyter's `normalize.less` sets `[hidden] { display: none; }` but bootstrap.min.css set `[hidden] { display: none !important; }` so we also need the `!important` here to be able to override the default hidden behavior on the sphinx rendered scikit-learn.org. See: https://github.com/scikit-learn/scikit-learn/issues/21755 */display: inline-block !important;position: relative;}#sk-container-id-6 div.sk-text-repr-fallback {display: none;}</style><div id=\"sk-container-id-6\" class=\"sk-top-container\"><div class=\"sk-text-repr-fallback\"><pre>SVC(C=0.1)</pre><b>In a Jupyter environment, please rerun this cell to show the HTML representation or trust the notebook. <br />On GitHub, the HTML representation is unable to render, please try loading this page with nbviewer.org.</b></div><div class=\"sk-container\" hidden><div class=\"sk-item\"><div class=\"sk-estimator sk-toggleable\"><input class=\"sk-toggleable__control sk-hidden--visually\" id=\"sk-estimator-id-6\" type=\"checkbox\" checked><label for=\"sk-estimator-id-6\" class=\"sk-toggleable__label sk-toggleable__label-arrow\">SVC</label><div class=\"sk-toggleable__content\"><pre>SVC(C=0.1)</pre></div></div></div></div></div>"
            ]
          },
          "metadata": {},
          "execution_count": 142
        }
      ]
    },
    {
      "cell_type": "code",
      "source": [
        "feeling1_predictions = svm.predict(X_test)\n",
        "feeling1_predictions[:5]"
      ],
      "metadata": {
        "colab": {
          "base_uri": "https://localhost:8080/"
        },
        "outputId": "dd5ae7ac-1c5d-4ba4-d55e-e892c7edc942",
        "id": "BWwKRPCAgVbV"
      },
      "execution_count": null,
      "outputs": [
        {
          "output_type": "execute_result",
          "data": {
            "text/plain": [
              "array([1, 1, 1, 1, 1])"
            ]
          },
          "metadata": {},
          "execution_count": 143
        }
      ]
    },
    {
      "cell_type": "code",
      "source": [
        "print('The accuracy of the SVM is',metrics.accuracy_score(y_test,feeling1_predictions))"
      ],
      "metadata": {
        "colab": {
          "base_uri": "https://localhost:8080/"
        },
        "outputId": "98fa6796-0c35-4245-b146-ff6da7048dce",
        "id": "iWiUoo2kgVbV"
      },
      "execution_count": null,
      "outputs": [
        {
          "output_type": "stream",
          "name": "stdout",
          "text": [
            "The accuracy of the SVM is 0.8442367601246106\n"
          ]
        }
      ]
    },
    {
      "cell_type": "code",
      "source": [
        "from sklearn.metrics import precision_score\n",
        "print('The precision of the SVM is',precision_score(y_test,feeling1_predictions))"
      ],
      "metadata": {
        "colab": {
          "base_uri": "https://localhost:8080/"
        },
        "outputId": "9a4c4f1a-710b-4b7e-b250-73b81f60bd1e",
        "id": "zzR_rXEhgVbV"
      },
      "execution_count": null,
      "outputs": [
        {
          "output_type": "stream",
          "name": "stdout",
          "text": [
            "The precision of the SVM is 0.8382352941176471\n"
          ]
        }
      ]
    },
    {
      "cell_type": "code",
      "source": [
        "from sklearn.metrics import recall_score\n",
        "print('The recall of the SVM is',recall_score(y_test,feeling1_predictions))"
      ],
      "metadata": {
        "colab": {
          "base_uri": "https://localhost:8080/"
        },
        "outputId": "5c03e5ef-3384-428c-8d05-eb0e08913925",
        "id": "YtcVtH4igVbV"
      },
      "execution_count": null,
      "outputs": [
        {
          "output_type": "stream",
          "name": "stdout",
          "text": [
            "The recall of the SVM is 0.9743589743589743\n"
          ]
        }
      ]
    },
    {
      "cell_type": "code",
      "source": [
        "from sklearn.metrics import f1_score\n",
        "print('The f1_score of the SVM is',f1_score(y_test,feeling1_predictions))"
      ],
      "metadata": {
        "colab": {
          "base_uri": "https://localhost:8080/"
        },
        "outputId": "8e0e8b24-7b6b-4b49-e822-5a71976f652a",
        "id": "e3MVCcqXgVbV"
      },
      "execution_count": null,
      "outputs": [
        {
          "output_type": "stream",
          "name": "stdout",
          "text": [
            "The f1_score of the SVM is 0.9011857707509882\n"
          ]
        }
      ]
    },
    {
      "cell_type": "code",
      "source": [
        "from sklearn import metrics\n",
        "from sklearn.metrics import confusion_matrix\n",
        "from sklearn.metrics import classification_report"
      ],
      "metadata": {
        "id": "USS29kRigVbW"
      },
      "execution_count": null,
      "outputs": []
    },
    {
      "cell_type": "code",
      "source": [
        "svm_confusion = confusion_matrix(y_test, feeling1_predictions)"
      ],
      "metadata": {
        "id": "dkYMXKLegVbW"
      },
      "execution_count": null,
      "outputs": []
    },
    {
      "cell_type": "code",
      "source": [
        "sns.heatmap(svm_confusion, annot=True, cmap=\"vlag_r\")\n",
        "plt.title(\"Confusion Matrix\");"
      ],
      "metadata": {
        "colab": {
          "base_uri": "https://localhost:8080/",
          "height": 452
        },
        "outputId": "083ad96f-47d8-4ffc-974a-c64f3b924a8b",
        "id": "Q84LrlATgVbW"
      },
      "execution_count": null,
      "outputs": [
        {
          "output_type": "display_data",
          "data": {
            "text/plain": [
              "<Figure size 640x480 with 2 Axes>"
            ],
            "image/png": "[encoded data removed]"
          },
          "metadata": {}
        }
      ]
    },
    {
      "cell_type": "code",
      "source": [
        "from sklearn.metrics import RocCurveDisplay\n",
        "RocCurveDisplay.from_estimator(svm, X_test, y_test)"
      ],
      "metadata": {
        "colab": {
          "base_uri": "https://localhost:8080/",
          "height": 467
        },
        "outputId": "65c22d64-5916-4ac8-a084-a807c4877f9c",
        "id": "2sG2zWP_gVbW"
      },
      "execution_count": null,
      "outputs": [
        {
          "output_type": "execute_result",
          "data": {
            "text/plain": [
              "<sklearn.metrics._plot.roc_curve.RocCurveDisplay at 0x7ff3045fc460>"
            ]
          },
          "metadata": {},
          "execution_count": 151
        },
        {
          "output_type": "display_data",
          "data": {
            "text/plain": [
              "<Figure size 640x480 with 1 Axes>"
            ],
            "image/png": "[encoded data removed]"
          },
          "metadata": {}
        }
      ]
    },
    {
      "cell_type": "markdown",
      "source": [
        "### Better Evolution Using Cross Validation"
      ],
      "metadata": {
        "id": "moUNwMYRdSH0"
      }
    },
    {
      "cell_type": "code",
      "source": [
        "from sklearn.model_selection import cross_val_score\n",
        "\n",
        "log_cv = cross_val_score(log_reg, X, y, cv=10)"
      ],
      "metadata": {
        "id": "RQoswsrpeBBA"
      },
      "execution_count": null,
      "outputs": []
    },
    {
      "cell_type": "code",
      "source": [
        "pd.Series(log_cv).describe()"
      ],
      "metadata": {
        "colab": {
          "base_uri": "https://localhost:8080/"
        },
        "id": "ijV-u_SPeCxF",
        "outputId": "46ae5e34-f920-4c88-be07-fa5b6ee9eeea"
      },
      "execution_count": null,
      "outputs": [
        {
          "output_type": "execute_result",
          "data": {
            "text/plain": [
              "count    10.000000\n",
              "mean      0.832089\n",
              "std       0.045764\n",
              "min       0.712500\n",
              "25%       0.827640\n",
              "50%       0.846875\n",
              "75%       0.854687\n",
              "max       0.875000\n",
              "dtype: float64"
            ]
          },
          "metadata": {},
          "execution_count": 153
        }
      ]
    },
    {
      "cell_type": "code",
      "source": [
        "from sklearn.model_selection import cross_val_score\n",
        "\n",
        "svm_cv = cross_val_score(svm, X, y,cv=10)"
      ],
      "metadata": {
        "id": "_s1xuWoodZES"
      },
      "execution_count": null,
      "outputs": []
    },
    {
      "cell_type": "code",
      "source": [
        "pd.Series(svm_cv).describe()"
      ],
      "metadata": {
        "colab": {
          "base_uri": "https://localhost:8080/"
        },
        "id": "1FnEbvN2dsxp",
        "outputId": "faa96647-c841-42e5-fb24-5c79a8de689f"
      },
      "execution_count": null,
      "outputs": [
        {
          "output_type": "execute_result",
          "data": {
            "text/plain": [
              "count    10.000000\n",
              "mean      0.834600\n",
              "std       0.048979\n",
              "min       0.712500\n",
              "25%       0.816770\n",
              "50%       0.853125\n",
              "75%       0.865625\n",
              "max       0.881250\n",
              "dtype: float64"
            ]
          },
          "metadata": {},
          "execution_count": 155
        }
      ]
    }
  ]
}